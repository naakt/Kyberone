{
 "cells": [
  {
   "cell_type": "markdown",
   "id": "9bdd1762-1d59-4e08-94a9-6e0a07e27f1f",
   "metadata": {
    "tags": []
   },
   "source": [
    "# Preperatory Blocks"
   ]
  },
  {
   "cell_type": "markdown",
   "id": "26ad8d8d-cc7e-4846-99aa-99156d3a6e35",
   "metadata": {},
   "source": [
    "#### Required Imports"
   ]
  },
  {
   "cell_type": "markdown",
   "id": "f24d87b0",
   "metadata": {},
   "source": [
    "Ready to do some programming? This very important assignment requires using the mitreattack package for Python to perform some TTP Analysis.\n",
    "\n",
    "You can install the required package using the following command:\n",
    "pip install mitreattack-python\n",
    "\n",
    "Free Hint - This repository will be a great reference for this series of challenges\n",
    "https://github.com/mitre-attack/mitreattack-python/tree/master/mitreattack/attackToExcel\n",
    "\n"
   ]
  },
  {
   "cell_type": "code",
   "execution_count": 2,
   "id": "ea672339-f96d-415b-856a-f806af3266ad",
   "metadata": {},
   "outputs": [],
   "source": [
    "import mitreattack.attackToExcel.attackToExcel as attackToExcel\n",
    "import mitreattack.attackToExcel.stixToDf as stixToDf"
   ]
  },
  {
   "cell_type": "markdown",
   "id": "ef561607-70cc-4327-9cde-9002c89209b0",
   "metadata": {},
   "source": [
    "#### Input requested APTs"
   ]
  },
  {
   "cell_type": "code",
   "execution_count": 3,
   "id": "49a5f3d8-0c2f-43e6-a0fe-0a885304d149",
   "metadata": {},
   "outputs": [],
   "source": [
    "apt_list = [\"APT28\", \"APT29\", \"Dragonfly\", \"Gamaredon Group\", \"Dragonfly\", \"Sandworm Team\", \"Turla\", \"Wizard Spider\"]"
   ]
  },
  {
   "cell_type": "markdown",
   "id": "9cc3906f-8d67-4400-a060-40d034061f43",
   "metadata": {},
   "source": [
    "#### Download and parse ATT&CK STIX data"
   ]
  },
  {
   "cell_type": "code",
   "execution_count": 10,
   "id": "9c6a1eed-f08f-40dd-abe5-54abde091421",
   "metadata": {},
   "outputs": [
    {
     "name": "stderr",
     "output_type": "stream",
     "text": [
      "\u001b[32m2023-07-24 19:36:30.590\u001b[0m | \u001b[1mINFO    \u001b[0m | \u001b[36mmitreattack.attackToExcel.attackToExcel\u001b[0m:\u001b[36mget_stix_data\u001b[0m:\u001b[36m69\u001b[0m - \u001b[1mDownloading ATT&CK data from github.com/mitre/cti\u001b[0m\n",
      "parsing groups: 100%|██████████| 136/136 [00:00<00:00, 45397.96it/s]\n",
      "parsing relationships for type=group: 100%|██████████| 16530/16530 [00:00<00:00, 170895.63it/s]\n"
     ]
    }
   ],
   "source": [
    "attackdata = attackToExcel.get_stix_data(\"enterprise-attack\") #functions = 'techniquesToDf, tacticsToDf, softwareToDf, groupsToDf,... https://github.com/mitre-attack/mitreattack-python/blob/master/mitreattack/attackToExcel/README.md\n",
    "groups_data = stixToDf.groupsToDf(attackdata) #Keys = ['groups', 'associated software', 'techniques used', 'citations']"
   ]
  },
  {
   "cell_type": "markdown",
   "id": "7bf5fd30-74c8-4404-9f65-7ddba2b5b18e",
   "metadata": {
    "tags": []
   },
   "source": [
    "# Program Blocks"
   ]
  },
  {
   "cell_type": "markdown",
   "id": "bf956e51-e902-4abb-aa0b-83c6446805b8",
   "metadata": {},
   "source": [
    "## ASOM Dev"
   ]
  },
  {
   "cell_type": "markdown",
   "id": "58972ac4-dcea-4a13-af40-73b98ef619df",
   "metadata": {
    "tags": []
   },
   "source": [
    "### Get TTP Data for APTs"
   ]
  },
  {
   "cell_type": "markdown",
   "id": "5660b45c",
   "metadata": {},
   "source": [
    "Compile a list of techniques for each APT.\n",
    "\n",
    "Provide how many techniqes are used by each APT."
   ]
  },
  {
   "cell_type": "code",
   "execution_count": 20,
   "id": "7ccd7d87-cdcc-4576-8b06-da52ab0ba125",
   "metadata": {},
   "outputs": [
    {
     "name": "stdout",
     "output_type": "stream",
     "text": [
      "86, 54, 56, 48, 67, 66, 46\n"
     ]
    }
   ],
   "source": [
    "group_techniques_df = groups_data[\"techniques used\"] # Keys: ['source ID', 'source name', 'source type', 'mapping type', 'target ID', 'target name', 'target type', 'mapping description']\n",
    "\n",
    "\n",
    "#print(group_techniques_df)|\n",
    "\n",
    "apt_ttps = dict()\n",
    "for apt in apt_list:\n",
    "    data = group_techniques_df[group_techniques_df[\"source name\"].str.contains(apt)]\n",
    "    apt_ttps[apt] = data[\"target ID\"].values\n",
    "\n",
    "\n",
    "print(\", \".join([str(len(apt_ttps[apt])) for apt in apt_ttps]))"
   ]
  },
  {
   "cell_type": "markdown",
   "id": "c5a34f99-bcd3-488d-b2a4-65d9282a1e4d",
   "metadata": {},
   "source": [
    "### Identify the Most Common Techniques among the APTs"
   ]
  },
  {
   "cell_type": "markdown",
   "id": "2b58ef45",
   "metadata": {},
   "source": [
    "Lets do some analysis and identify what techniques are most common amount the APTs.\n",
    "\n",
    "Provide a list of which techniques are associated with at least 6 of the 7 APTs (in numerical order)\n",
    "\n",
    "Example:\n",
    "['T1005', 'T1027', 'T1059.001', 'T1059.003']\n",
    "\n",
    "Solution: ['T1005', 'T1027', 'T1059.001', 'T1059.003', 'T1070.004', 'T1071.001', 'T1083', 'T1105', 'T1204.002', 'T1547.001', 'T1566.001', 'T1588.002']"
   ]
  },
  {
   "cell_type": "code",
   "execution_count": 25,
   "id": "3aa6b735-8c96-41c1-8887-3c2749118549",
   "metadata": {},
   "outputs": [
    {
     "name": "stdout",
     "output_type": "stream",
     "text": [
      "7: ['T1059.001']\n",
      "6: ['T1070.004', 'T1105', 'T1204.002', 'T1547.001', 'T1566.001', 'T1588.002']\n",
      "5: ['T1005', 'T1133', 'T1083', 'T1204.001', 'T1566.002', 'T1078', 'T1071.001', 'T1059.003']\n",
      "4: ['T1140', 'T1583.001', 'T1203', 'T1036.005', 'T1003.003', 'T1021.002', 'T1595.002', 'T1505.003', 'T1562.001', 'T1053.005', 'T1047', 'T1087.002', 'T1112', 'T1018', 'T1033', 'T1027.010', 'T1082']\n",
      "3: ['T1102.002', 'T1110', 'T1025', 'T1189', 'T1190', 'T1068', 'T1210', 'T1027', 'T1120', 'T1057', 'T1114.002', 'T1218.011', 'T1113', 'T1598.003', 'T1221', 'T1199', 'T1583.006', 'T1587.001', 'T1059.006', 'T1016', 'T1041', 'T1059.005', 'T1570']\n",
      "2: ['T1098.002', 'T1560', 'T1560.001', 'T1119', 'T1070.001', 'T1078.004', 'T1213', 'T1039', 'T1586.002', 'T1564.003', 'T1056.001', 'T1003.001', 'T1074.001', 'T1071.003', 'T1036', 'T1090.003', 'T1040', 'T1110.001', 'T1110.003', 'T1027.001', 'T1218.005', 'T1546.003', 'T1591.002', 'T1195.002', 'T1069.002', 'T1135', 'T1012', 'T1021.001', 'T1003.002', 'T1584.004', 'T1485', 'T1016.001', 'T1106', 'T1102', 'T1078.002', 'T1090', 'T1049', 'T1055.001', 'T1518.001', 'T1547.004']\n",
      "1: ['T1550.001', 'T1542.003', 'T1092', 'T1546.015', 'T1589.001', 'T1030', 'T1559.002', 'T1048.002', 'T1567', 'T1211', 'T1090.002', 'T1564.001', 'T1001.001', 'T1037.001', 'T1498', 'T1003', 'T1137.002', 'T1550.002', 'T1598', 'T1074.002', 'T1091', 'T1014', 'T1213.002', 'T1528', 'T1573.001', 'T1070.006', 'T1134.001', 'T1546.008', 'T1548.002', 'T1059.009', 'T1136.003', 'T1087.004', 'T1586.003', 'T1651', 'T1021.007', 'T1098.005', 'T1587.003', 'T1090.004', 'T1573', 'T1027.006', 'T1556.007', 'T1553.005', 'T1621', 'T1550.003', 'T1027.002', 'T1566.003', 'T1649', 'T1098', 'T1071', 'T1059', 'T1562.004', 'T1608.004', 'T1187', 'T1564.002', 'T1003.004', 'T1136.001', 'T1110.002', 'T1598.002', 'T1583.003', 'T1020', 'T1027.004', 'T1559.001', 'T1568', 'T1491.001', 'T1534', 'T1137', 'T1080', 'T1608.001', 'T1021.005', 'T1584.005', 'T1555.003', 'T1486', 'T1561.002', 'T1136.002', 'T1590.001', 'T1087.003', 'T1585.002', 'T1589.002', 'T1589.003', 'T1499', 'T1491.002', 'T1571', 'T1219', 'T1593', 'T1594', 'T1583.004', 'T1585.001', 'T1592.002', 'T1072', 'T1132.001', 'T1588.006', 'T1553.006', 'T1134.002', 'T1567.002', 'T1027.011', 'T1615', 'T1027.005', 'T1090.001', 'T1059.007', 'T1087.001', 'T1078.003', 'T1069.001', 'T1588.001', 'T1201', 'T1546.013', 'T1055', 'T1007', 'T1124', 'T1584.003', 'T1584.006', 'T1555.004', 'T1553.002', 'T1588.003', 'T1074', 'T1048.003', 'T1558.003', 'T1557.001', 'T1036.004', 'T1569.002', 'T1489', 'T1222.001', 'T1021.006', 'T1543.003']\n",
      "Solution: ['T1059.001', 'T1070.004', 'T1105', 'T1204.002', 'T1547.001', 'T1566.001', 'T1588.002']\n"
     ]
    }
   ],
   "source": [
    "ttp_tracker = dict()\n",
    "for apt in apt_ttps:\n",
    "    for ttp in apt_ttps[apt]:\n",
    "        if ttp in ttp_tracker:\n",
    "            ttp_tracker[ttp].append(apt)\n",
    "        else:\n",
    "            ttp_tracker[ttp] = [apt]\n",
    "            \n",
    "ttp_common_sorted = sorted(ttp_tracker, key=lambda k: len(ttp_tracker[k]), reverse=True)\n",
    "\n",
    "ttp_common_grouped = dict()\n",
    "\n",
    "for ttp in ttp_tracker:\n",
    "    count = len(ttp_tracker[ttp])\n",
    "    if count in ttp_common_grouped:\n",
    "        ttp_common_grouped[count].append(ttp)\n",
    "    else: \n",
    "        ttp_common_grouped[count] = [ttp]\n",
    "for count in sorted(ttp_common_grouped, reverse=True):\n",
    "    print(f'{count}: {ttp_common_grouped[count]}')\n",
    "\n",
    "print(f\"Solution: {sorted(ttp_common_grouped[6] + ttp_common_grouped[7])}\")"
   ]
  },
  {
   "cell_type": "markdown",
   "id": "a834eace-9bcd-4171-aa38-162b7e51af81",
   "metadata": {},
   "source": [
    "### CCIR Selection"
   ]
  },
  {
   "cell_type": "markdown",
   "id": "9a52954f",
   "metadata": {},
   "source": [
    "By this point, should hopefully have a list of all the techniques associated with the APTs. Which tactic has the most associated techniques from that list?\n",
    "\n",
    "Free Hint - The following might be useful:\n",
    "techniques_data = stixToDf.techniquesToDf(attackdata, \"enterprise-attack\") #Keys = ['techniques', 'procedure examples', 'associated mitigations', 'citations']\n",
    "\n",
    "Provide the both the tactic T# and the number of associated TTPs as a comma seperated list\n",
    "\n",
    "Example:\n",
    "TA0005, 24\n",
    "\n",
    "\n",
    "Solution: TA0005, 46"
   ]
  },
  {
   "cell_type": "code",
   "execution_count": 22,
   "id": "183af33b-ebc2-410f-9ca6-2f71ce64fc65",
   "metadata": {},
   "outputs": [],
   "source": [
    "min_ttps = 0 #Select how common the TTPs must be in relation to the selects APTs. This will determine the resulting CCIRs and ultimately the length of the outputed ASOM."
   ]
  },
  {
   "cell_type": "code",
   "execution_count": 23,
   "id": "8c4db8e7-1fe9-477f-b9b5-503cd079116b",
   "metadata": {},
   "outputs": [
    {
     "name": "stderr",
     "output_type": "stream",
     "text": [
      "parsing techniques: 100%|██████████| 607/607 [00:00<00:00, 2693.93it/s]\n",
      "parsing relationships for type=technique: 100%|██████████| 16530/16530 [00:00<00:00, 126960.24it/s]\n"
     ]
    },
    {
     "name": "stdout",
     "output_type": "stream",
     "text": [
      "CCIR: Persistence - Indicators: ['T1098.002', 'T1078.004', 'T1546.003', 'T1078.002', 'T1547.004', 'T1542.003', 'T1546.015', 'T1037.001', 'T1137.002', 'T1546.008', 'T1136.003', 'T1098.005', 'T1556.007', 'T1098', 'T1136.001', 'T1137', 'T1136.002', 'T1078.003', 'T1546.013', 'T1543.003', 'T1133', 'T1078', 'T1505.003', 'T1053.005', 'T1547.001']\n",
      "CCIR: Collection - Indicators: ['T1560', 'T1560.001', 'T1119', 'T1213', 'T1039', 'T1056.001', 'T1074.001', 'T1074.002', 'T1213.002', 'T1074', 'T1557.001', 'T1025', 'T1114.002', 'T1113', 'T1005']\n",
      "CCIR: Defense Evasion - Indicators: ['T1070.001', 'T1078.004', 'T1564.003', 'T1036', 'T1027.001', 'T1218.005', 'T1078.002', 'T1055.001', 'T1550.001', 'T1542.003', 'T1211', 'T1564.001', 'T1550.002', 'T1014', 'T1070.006', 'T1134.001', 'T1548.002', 'T1027.006', 'T1556.007', 'T1553.005', 'T1550.003', 'T1027.002', 'T1562.004', 'T1564.002', 'T1027.004', 'T1553.006', 'T1134.002', 'T1027.011', 'T1027.005', 'T1078.003', 'T1055', 'T1553.002', 'T1036.004', 'T1222.001', 'T1027', 'T1218.011', 'T1221', 'T1078', 'T1140', 'T1036.005', 'T1562.001', 'T1112', 'T1027.010', 'T1070.004']\n",
      "CCIR: Initial Access - Indicators: ['T1078.004', 'T1195.002', 'T1078.002', 'T1091', 'T1566.003', 'T1078.003', 'T1189', 'T1190', 'T1199', 'T1133', 'T1566.002', 'T1078', 'T1566.001']\n",
      "CCIR: Privilege Escalation - Indicators: ['T1078.004', 'T1546.003', 'T1078.002', 'T1055.001', 'T1547.004', 'T1546.015', 'T1037.001', 'T1134.001', 'T1546.008', 'T1548.002', 'T1134.002', 'T1078.003', 'T1546.013', 'T1055', 'T1543.003', 'T1068', 'T1078', 'T1053.005', 'T1547.001']\n",
      "CCIR: Resource Development - Indicators: ['T1586.002', 'T1584.004', 'T1586.003', 'T1587.003', 'T1608.004', 'T1583.003', 'T1608.001', 'T1584.005', 'T1585.002', 'T1583.004', 'T1585.001', 'T1588.006', 'T1588.001', 'T1584.003', 'T1584.006', 'T1588.003', 'T1583.006', 'T1587.001', 'T1583.001', 'T1588.002']\n",
      "CCIR: Credential Access - Indicators: ['T1056.001', 'T1003.001', 'T1040', 'T1110.001', 'T1110.003', 'T1003.002', 'T1003', 'T1528', 'T1556.007', 'T1621', 'T1649', 'T1187', 'T1003.004', 'T1110.002', 'T1555.003', 'T1555.004', 'T1558.003', 'T1557.001', 'T1110', 'T1003.003']\n",
      "CCIR: Command and Control - Indicators: ['T1071.003', 'T1090.003', 'T1102', 'T1090', 'T1092', 'T1090.002', 'T1001.001', 'T1573.001', 'T1090.004', 'T1573', 'T1071', 'T1568', 'T1571', 'T1219', 'T1132.001', 'T1090.001', 'T1102.002', 'T1071.001', 'T1105']\n",
      "CCIR: Discovery - Indicators: ['T1040', 'T1069.002', 'T1135', 'T1012', 'T1016.001', 'T1049', 'T1518.001', 'T1087.004', 'T1087.003', 'T1615', 'T1087.001', 'T1069.001', 'T1201', 'T1007', 'T1124', 'T1120', 'T1057', 'T1016', 'T1083', 'T1087.002', 'T1018', 'T1033', 'T1082']\n",
      "CCIR: Reconnaissance - Indicators: ['T1591.002', 'T1589.001', 'T1598', 'T1598.002', 'T1590.001', 'T1589.002', 'T1589.003', 'T1593', 'T1594', 'T1592.002', 'T1598.003', 'T1595.002']\n",
      "CCIR: Lateral Movement - Indicators: ['T1021.001', 'T1550.001', 'T1550.002', 'T1091', 'T1021.007', 'T1550.003', 'T1534', 'T1080', 'T1021.005', 'T1072', 'T1021.006', 'T1210', 'T1570', 'T1021.002']\n",
      "CCIR: Impact - Indicators: ['T1485', 'T1498', 'T1491.001', 'T1486', 'T1561.002', 'T1499', 'T1491.002', 'T1489']\n",
      "CCIR: Execution - Indicators: ['T1106', 'T1559.002', 'T1059.009', 'T1651', 'T1059', 'T1559.001', 'T1072', 'T1059.007', 'T1569.002', 'T1059.006', 'T1059.005', 'T1204.001', 'T1059.003', 'T1203', 'T1053.005', 'T1047', 'T1204.002', 'T1059.001']\n",
      "CCIR: Exfiltration - Indicators: ['T1030', 'T1048.002', 'T1567', 'T1020', 'T1567.002', 'T1048.003', 'T1041']\n",
      "Solution: Defense Evasion, 44\n"
     ]
    }
   ],
   "source": [
    "techniques_data = stixToDf.techniquesToDf(attackdata, \"enterprise-attack\") #Keys = ['techniques', 'procedure examples', 'associated mitigations', 'citations']\n",
    "techniques_df = techniques_data['techniques'] #Keys: ['ID', 'name', 'description', 'url', 'created', 'last modified',  'version', 'tactics', 'detection', 'platforms', 'data sources',  'is sub-technique', 'sub-technique of', 'defenses bypassed',  'contributors', 'permissions required', 'supports remote',  'system requirements', 'CAPEC ID', 'impact type',  'effective permissions', 'relationship citations'],\n",
    "\n",
    "tactics_tracker = dict()\n",
    "for count in ttp_common_grouped:\n",
    "    if count >= min_ttps:\n",
    "        for ttp in ttp_common_grouped[count]:\n",
    "                technique = techniques_df[techniques_df[\"ID\"].str.contains(ttp)]\n",
    "                for tactic in technique['tactics'].values[0].split(', '):\n",
    "                    if tactic in tactics_tracker:\n",
    "                        tactics_tracker[tactic].append(ttp)\n",
    "                    else:\n",
    "                        tactics_tracker[tactic] = [ttp]\n",
    "\n",
    "for tactic in tactics_tracker:\n",
    "    print(f'CCIR: {tactic} - Indicators: {tactics_tracker[tactic]}')\n",
    "\n",
    "tactic = sorted(tactics_tracker, key = lambda key: len(tactics_tracker[key]))[-1]\n",
    "print(f'Solution: {tactic}, {len(tactics_tracker[tactic])}')"
   ]
  },
  {
   "cell_type": "code",
   "execution_count": null,
   "id": "96c91f11",
   "metadata": {},
   "outputs": [],
   "source": []
  }
 ],
 "metadata": {
  "kernelspec": {
   "display_name": "Python 3 (ipykernel)",
   "language": "python",
   "name": "python3"
  },
  "language_info": {
   "codemirror_mode": {
    "name": "ipython",
    "version": 3
   },
   "file_extension": ".py",
   "mimetype": "text/x-python",
   "name": "python",
   "nbconvert_exporter": "python",
   "pygments_lexer": "ipython3",
   "version": "3.11.3"
  },
  "toc-showtags": false
 },
 "nbformat": 4,
 "nbformat_minor": 5
}
